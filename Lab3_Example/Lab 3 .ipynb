{
 "cells": [
  {
   "cell_type": "markdown",
   "metadata": {},
   "source": [
    "### Q1\n",
    "\n",
    "Given a periodic signal x\\[n\\], period of N samples, fourier analysis equation is:\n",
    "\n",
    "$$\n",
    "c_k = \\sum_{-\\infty}^{\\infty}x[n]*e^{-j\\frac{2\\pi}{N}kn }\n",
    "$$"
   ]
  },
  {
   "cell_type": "markdown",
   "metadata": {},
   "source": [
    "### Q2"
   ]
  },
  {
   "cell_type": "code",
   "execution_count": 9,
   "metadata": {},
   "outputs": [],
   "source": [
    "import numpy as np\n",
    "import matplotlib.pyplot as plt\n",
    "\n",
    "def my_salami(x,mode=\"DTFS\"):\n",
    "    X = np.zeros(len(x), dtype=complex)\n",
    "    Omega = np.zeros(len(x))\n",
    "    N = len(x)\n",
    "    for k in np.arange(0,len(X)):             #count from 0 to k for length of X\n",
    "        tmpVal = 0.0\n",
    "        Omega[k] = (2*np.pi/N)*k\n",
    "        for n in np.arange(0,len(x)):         #count from 0 to n-1 for x\n",
    "            tmpVal = tmpVal + x[n]*np.exp(-1j*(2*np.pi/N)*k*n)\n",
    "        if mode == \"DTFS\":\n",
    "            X[k] = tmpVal/N #DTFS\n",
    "        else:\n",
    "            X[k] = tmpVal\n",
    "    return (X,Omega)"
   ]
  },
  {
   "cell_type": "code",
   "execution_count": 6,
   "metadata": {},
   "outputs": [],
   "source": [
    "def myDTFS(ipX, N):\n",
    "    return my_salami(ipX,mode=\"DTFS\")\n",
    "\n",
    "def myDFT(ipX,N):\n",
    "    return my_salami(ipX,mode=\"COCKBIGBIG\")"
   ]
  },
  {
   "cell_type": "code",
   "execution_count": null,
   "metadata": {},
   "outputs": [],
   "source": [
    "def salami_my(X):\n",
    "    x = np.zeros(len(X), dtype=float)\n",
    "    N = len(x)\n",
    "    for n in np.arange(0,len(x)):\n",
    "        tmpVal = 0.0\n",
    "        for k in np.arange(0,len(X)):\n",
    "            tmpVal = tmpVal + X[k]*np.exp(+1j*(2*np.pi/N)*k*n)\n",
    "        x[n] = np.absolute(tmpVal)\n",
    "    return (x)"
   ]
  },
  {
   "cell_type": "code",
   "execution_count": 12,
   "metadata": {},
   "outputs": [
    {
     "name": "stdout",
     "output_type": "stream",
     "text": [
      "(array([0.16666667+0.00000000e+00j, 0.15550212-4.16666667e-02j,\n",
      "       0.125     -7.21687836e-02j, 0.08333333-8.33333333e-02j,\n",
      "       0.04166667-7.21687836e-02j, 0.01116455-4.16666667e-02j,\n",
      "       0.        -1.02053900e-17j, 0.01116455+4.16666667e-02j,\n",
      "       0.04166667+7.21687836e-02j, 0.08333333+8.33333333e-02j,\n",
      "       0.125     +7.21687836e-02j, 0.15550212+4.16666667e-02j]), array([0.        , 0.52359878, 1.04719755, 1.57079633, 2.0943951 ,\n",
      "       2.61799388, 3.14159265, 3.66519143, 4.1887902 , 4.71238898,\n",
      "       5.23598776, 5.75958653]))\n",
      "(array([2.       +0.00000000e+00j, 1.8660254-5.00000000e-01j,\n",
      "       1.5      -8.66025404e-01j, 1.       -1.00000000e+00j,\n",
      "       0.5      -8.66025404e-01j, 0.1339746-5.00000000e-01j,\n",
      "       0.       -1.22464680e-16j, 0.1339746+5.00000000e-01j,\n",
      "       0.5      +8.66025404e-01j, 1.       +1.00000000e+00j,\n",
      "       1.5      +8.66025404e-01j, 1.8660254+5.00000000e-01j]), array([0.        , 0.52359878, 1.04719755, 1.57079633, 2.0943951 ,\n",
      "       2.61799388, 3.14159265, 3.66519143, 4.1887902 , 4.71238898,\n",
      "       5.23598776, 5.75958653]))\n"
     ]
    }
   ],
   "source": [
    "bigC = [1,1,0,0,0,0,0,0,0,0,0,0]\n",
    "print(myDTFS(bigC,len(bigC)))\n",
    "print(myDFT(bigC,len(bigC)))"
   ]
  }
 ],
 "metadata": {
  "kernelspec": {
   "display_name": "Python 3",
   "language": "python",
   "name": "python3"
  },
  "language_info": {
   "codemirror_mode": {
    "name": "ipython",
    "version": 3
   },
   "file_extension": ".py",
   "mimetype": "text/x-python",
   "name": "python",
   "nbconvert_exporter": "python",
   "pygments_lexer": "ipython3",
   "version": "3.7.6"
  }
 },
 "nbformat": 4,
 "nbformat_minor": 4
}
